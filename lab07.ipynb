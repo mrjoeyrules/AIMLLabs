{
 "cells": [
  {
   "cell_type": "code",
   "execution_count": 1,
   "id": "ac70d448",
   "metadata": {
    "execution": {
     "iopub.execute_input": "2022-11-08T10:31:36.321032Z",
     "iopub.status.busy": "2022-11-08T10:31:36.319994Z",
     "iopub.status.idle": "2022-11-08T10:31:37.593399Z",
     "shell.execute_reply": "2022-11-08T10:31:37.591743Z"
    },
    "papermill": {
     "duration": 1.282133,
     "end_time": "2022-11-08T10:31:37.596998",
     "exception": false,
     "start_time": "2022-11-08T10:31:36.314865",
     "status": "completed"
    },
    "tags": []
   },
   "outputs": [
    {
     "name": "stdout",
     "output_type": "stream",
     "text": [
      "       PassengerId  Survived  Pclass  SibSp  Parch      Fare\n",
      "Age                                                         \n",
      "0.42         804.0       1.0     3.0    0.0    1.0    8.5167\n",
      "0.67         756.0       1.0     2.0    1.0    1.0   14.5000\n",
      "0.75         557.5       1.0     3.0    2.0    1.0   19.2583\n",
      "0.83         455.5       1.0     2.0    0.5    1.5   23.8750\n",
      "0.92         306.0       1.0     1.0    1.0    2.0  151.5500\n",
      "...            ...       ...     ...    ...    ...       ...\n",
      "70.00        709.5       0.0     1.5    0.5    0.5   40.7500\n",
      "70.50        117.0       0.0     3.0    0.0    0.0    7.7500\n",
      "71.00        295.5       0.0     1.0    0.0    0.0   42.0792\n",
      "74.00        852.0       0.0     3.0    0.0    0.0    7.7750\n",
      "80.00        631.0       1.0     1.0    0.0    0.0   30.0000\n",
      "\n",
      "[88 rows x 6 columns]\n"
     ]
    }
   ],
   "source": [
    "import pandas as pd\n",
    "import seaborn as sns\n",
    "import matplotlib.pyplot as plt\n",
    "df = pd.read_csv(\"../input/titanic/train.csv\")\n",
    "grouped1 = df.groupby('Sex')\n",
    "grouped1.first()\n",
    "ageGroup = df.groupby('Age')\n",
    "mean = ageGroup.mean()\n",
    "print(mean)"
   ]
  },
  {
   "cell_type": "code",
   "execution_count": null,
   "id": "0cd52d68",
   "metadata": {
    "papermill": {
     "duration": 0.001887,
     "end_time": "2022-11-08T10:31:37.601073",
     "exception": false,
     "start_time": "2022-11-08T10:31:37.599186",
     "status": "completed"
    },
    "tags": []
   },
   "outputs": [],
   "source": []
  }
 ],
 "metadata": {
  "kernelspec": {
   "display_name": "Python 3",
   "language": "python",
   "name": "python3"
  },
  "language_info": {
   "codemirror_mode": {
    "name": "ipython",
    "version": 3
   },
   "file_extension": ".py",
   "mimetype": "text/x-python",
   "name": "python",
   "nbconvert_exporter": "python",
   "pygments_lexer": "ipython3",
   "version": "3.7.12"
  },
  "papermill": {
   "default_parameters": {},
   "duration": 11.068254,
   "end_time": "2022-11-08T10:31:38.426449",
   "environment_variables": {},
   "exception": null,
   "input_path": "__notebook__.ipynb",
   "output_path": "__notebook__.ipynb",
   "parameters": {},
   "start_time": "2022-11-08T10:31:27.358195",
   "version": "2.3.4"
  }
 },
 "nbformat": 4,
 "nbformat_minor": 5
}
